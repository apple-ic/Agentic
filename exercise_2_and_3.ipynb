{
  "cells": [
    {
      "cell_type": "markdown",
      "metadata": {
        "colab_type": "text",
        "id": "view-in-github"
      },
      "source": [
        "<a href=\"https://colab.research.google.com/github/apple-ic/Agentic/blob/main/Agentic_Capstone_Project.ipynb\" target=\"_parent\"><img src=\"https://colab.research.google.com/assets/colab-badge.svg\" alt=\"Open In Colab\"/></a>"
      ]
    },
    {
      "cell_type": "code",
      "execution_count": null,
      "metadata": {
        "id": "ERnDcfd41kVW",
        "outputId": "f3a4f9e3-5940-4e57-fffa-6c8d42641dea"
      },
      "outputs": [],
      "source": [
        "# install requirements from the pyproject.toml file\n",
        "%pip install ."
      ]
    },
    {
      "cell_type": "code",
      "execution_count": null,
      "metadata": {
        "id": "QV7ATDcb1e5Q"
      },
      "outputs": [],
      "source": [
        "from crewai import Agent\n",
        "from crewai import Task\n",
        "from crewai.project import agent\n",
        "\n",
        "\n",
        "@agent\n",
        "def StrategistAgent() -> Agent:\n",
        "    \"\"\"Create an agent that specialises in making marketing stratergies from research briefs\n",
        "\n",
        "    Returns:\n",
        "        Agent: The stratergist agent\n",
        "    \"\"\"\n",
        "\n",
        "    return Agent(\n",
        "        role=\"\"\"Marketing Strategist\"\"\",\n",
        "        backstory=\"\"\"A seasoned expert in digital marketing, audience segmentation, and branding.\n",
        "                 Adept at translating insights into actionable strategy to enhance brand positioning.\"\"\",\n",
        "        goal=\"\"\"Develop clear and compelling communication and marketing strategies based on research briefs.\n",
        "            Define tone, suitable channels, target audience, and key messaging.\"\"\",\n",
        "        verbose=True,\n",
        "        allow_delegation=True,\n",
        "    )\n"
      ]
    },
    {
      "cell_type": "code",
      "execution_count": null,
      "metadata": {},
      "outputs": [],
      "source": [
        "research_analyst = Agent(\n",
        "        role=\"\"\"Domain Researcher\"\"\",\n",
        "        backstory=\"\"\"Expert in online research, trend analysis, and data gathering across industries. Skilled at summarizing findings into actionable insights.\"\"\",\n",
        "        goal=\"\"\"Conduct deep research on a given topic, market, or audience and return a structured brief with key insights, stats, and references.\"\"\",\n",
        "        verbose=True\n",
        "    )"
      ]
    },
    {
      "cell_type": "code",
      "execution_count": null,
      "metadata": {},
      "outputs": [],
      "source": [
        "research_task = Task(\n",
        "    agent=research_analyst,\n",
        "    description=f\"Research the customer landscape and competitors for {project_description} in {customer_domain}. \"\n",
        "                f\"Include emerging trends, audience demographics, and competitor positioning.\",\n",
        "    expected_output=\"A detailed research brief including statistics, audience personas, competitor analysis, and market trends.\"\n",
        ")"
      ]
    },
    {
      "cell_type": "code",
      "execution_count": 1,
      "metadata": {
        "colab": {
          "base_uri": "https://localhost:8080/",
          "height": 221
        },
        "id": "CVJAauYB1e5Q",
        "outputId": "bb407b5d-c75c-4f35-aed3-513f0a287311"
      },
      "outputs": [
        {
          "data": {
            "text/markdown": [
              "\n",
              "\n",
              "- **Agents**:\n",
              "  1. Research Analyst Agent\n",
              "  2. Strategist Agent\n",
              "  3. Creative Director Agent\n",
              "  4. Content Writer Agent \n",
              "  5. Editor Agent\n",
              "\n",
              "- **Tasks**:\n",
              "  1. ...\n",
              "  2. ...\n",
              "  3. ...\n"
            ],
            "text/plain": [
              "<IPython.core.display.Markdown object>"
            ]
          },
          "execution_count": 1,
          "metadata": {},
          "output_type": "execute_result"
        }
      ],
      "source": [
        "from IPython.display import Markdown\n",
        "\n",
        "Markdown(\"\"\"\n",
        "\n",
        "- **Agents**:\n",
        "  1. Research Analyst Agent\n",
        "  2. Strategist Agent\n",
        "  3. Creative Director Agent\n",
        "  4. Content Writer Agent\n",
        "  5. Editor Agent\n",
        "\n",
        "- **Tasks**:\n",
        "  1. ...\n",
        "  2. ...\n",
        "  3. ...\n",
        "\"\"\")"
      ]
    }
  ],
  "metadata": {
    "colab": {
      "include_colab_link": true,
      "provenance": []
    },
    "kernelspec": {
      "display_name": "Python 3",
      "language": "python",
      "name": "python3"
    },
    "language_info": {
      "codemirror_mode": {
        "name": "ipython",
        "version": 3
      },
      "file_extension": ".py",
      "mimetype": "text/x-python",
      "name": "python",
      "nbconvert_exporter": "python",
      "pygments_lexer": "ipython3",
      "version": "3.11.2"
    }
  },
  "nbformat": 4,
  "nbformat_minor": 0
}
