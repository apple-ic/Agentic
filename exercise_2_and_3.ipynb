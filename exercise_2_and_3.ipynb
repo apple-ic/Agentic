{
  "cells": [
    {
      "cell_type": "markdown",
      "metadata": {
        "colab_type": "text",
        "id": "view-in-github"
      },
      "source": [
        "<a href=\"https://colab.research.google.com/github/apple-ic/Agentic/blob/main/exercise_2_and_3.ipynb\" target=\"_parent\"><img src=\"https://colab.research.google.com/assets/colab-badge.svg\" alt=\"Open In Colab\"/></a>"
      ]
    },
    {
      "cell_type": "code",
      "execution_count": null,
      "metadata": {
        "id": "ERnDcfd41kVW"
      },
      "outputs": [],
      "source": [
        "# install requirements from the pyproject.toml file\n",
        "%pip install ."
      ]
    },
    {
      "cell_type": "code",
      "execution_count": null,
      "metadata": {
        "id": "QV7ATDcb1e5Q"
      },
      "outputs": [],
      "source": [
        "\n",
        "from langtrace_python_sdk import langtrace\n",
        "from dotenv import load_dotenv\n",
        "# set up langtrace before importing crewai for better tracing\n",
        "\n",
        "load_dotenv()\n",
        "langtrace.init()\n",
        "\n",
        "from crewai import Agent\n",
        "from crewai import Task\n",
        "from crewai import LLM\n",
        "\n",
        "from crewai import Crew, Process\n",
        "from crewai_tools import SerperDevTool"
      ]
    },
    {
      "cell_type": "code",
      "execution_count": null,
      "metadata": {
        "id": "v-DoQARNMDbO"
      },
      "outputs": [],
      "source": [
        "\n",
        "llm = LLM(model=\"gpt-4o-mini\",\n",
        "          temperature=0.3,\n",
        "          max_completion_tokens=1000,\n",
        "          max_tokens=5000)\n",
        "\n",
        "# Create the web search tool\n",
        "web_search_tool = SerperDevTool()"
      ]
    },
    {
      "cell_type": "code",
      "execution_count": null,
      "metadata": {
        "id": "8QFh138fRpDq"
      },
      "outputs": [],
      "source": [
        "# The client's domain(url) and the project description\n",
        "\n",
        "customer_domain=\"crewai.com\"\n",
        "project_description=\"\"\"CrewAI, a leading provider of multi-agent systems, aims to revolutionize marketing automation for its enterprise clients.\n",
        "This project involves developing an innovative marketing strategy to showcase CrewAI's advanced AI-driven solutions,\n",
        "emphasizing ease of use, scalability, and integration capabilities.\n",
        "The campaign will target tech-savvy decision-makers in medium to large enterprises, highlighting success stories and\n",
        "the transformative potential of CrewAI's platform.\"\"\""
      ]
    },
    {
      "cell_type": "code",
      "execution_count": null,
      "metadata": {},
      "outputs": [],
      "source": [
        "print(project_description)"
      ]
    },
    {
      "cell_type": "code",
      "execution_count": null,
      "metadata": {
        "id": "lh2RqrNhLbxS"
      },
      "outputs": [],
      "source": [
        "# Exercise 2: Define Your Agents\n",
        "\n",
        "research_analyst = Agent(\n",
        "        role=\"\"\"Domain Researcher\"\"\",\n",
        "        backstory=\"\"\"Expert in online research, trend analysis, and data gathering across industries. Skilled at summarizing findings into actionable insights.\"\"\",\n",
        "        goal=\"\"\"Conduct deep research on a given topic, market, or audience and return a structured brief with key insights, stats, and references.\"\"\",\n",
        "        verbose=True,\n",
        "        tools=[web_search_tool],\n",
        "        llm=llm\n",
        "    )\n",
        "\n",
        "ethical_agent = Agent(\n",
        "    role=\"Ethics Judge\",\n",
        "    backstory=\"You are an expert ethics advisor, with many years of experience in providing rounded ethical advice on problems\",\n",
        "    goal=\"Provide a grounded evaluation of the ethics with respect to UK law and culture of the input data\",\n",
        "    verbose=True,\n",
        "    llm=llm\n",
        "\n",
        ")\n",
        "\n",
        "editor_agent = Agent(\n",
        "    role=\"Content Reviewer\",\n",
        "    backstory=\"An editorial expert skilled in proofreading, grammar checking, tone alignment, and ensuring brand consistency.\",\n",
        "    goal=\"Review the content for clarity, grammar, tone, and strategy alignment. Return final approved versions with notes if needed.\",\n",
        "    verbose=True,\n",
        "    llm=llm\n",
        ")"
      ]
    },
    {
      "cell_type": "code",
      "execution_count": null,
      "metadata": {
        "id": "5b9IbEt4LbxT"
      },
      "outputs": [],
      "source": [
        "#  Exercise 3: Define the Tasks¶\n",
        "# read in from tasks.yaml\n"
      ]
    },
    {
      "cell_type": "code",
      "execution_count": null,
      "metadata": {
        "colab": {
          "base_uri": "https://localhost:8080/",
          "height": 221
        },
        "id": "CVJAauYB1e5Q",
        "outputId": "bb407b5d-c75c-4f35-aed3-513f0a287311"
      },
      "outputs": [],
      "source": [
        "# Should we move this to Exercise 1? I'm not sure if we need to follow the template. – Rasha\n",
        "from IPython.display import Markdown\n",
        "\n",
        "Markdown(\"\"\"\n",
        "\n",
        "- **Agents**:\n",
        "  1. Research Analyst Agent\n",
        "  2. Strategist Agent\n",
        "  3. Creative Director Agent\n",
        "  4. Content Writer Agent\n",
        "  5. Editor Agent\n",
        "\n",
        "- **Tasks**:\n",
        "  1. ...\n",
        "  2. ...\n",
        "  3. ...\n",
        "\"\"\")"
      ]
    },
    {
      "cell_type": "code",
      "execution_count": null,
      "metadata": {
        "id": "k8h38eIyNxBn"
      },
      "outputs": [],
      "source": [
        "# Crew\n",
        "agent_list=[\n",
        "    research_analyst,\n",
        "    strategist_agent,\n",
        "    creative_director,\n",
        "    editor_agent\n",
        "]\n",
        "\n",
        "task_list = [\n",
        "    research_task,\n",
        "    strategist_task,\n",
        "    campaign_ideation_task,\n",
        "    editor_task\n",
        "]\n",
        "\n",
        "marketing_crew = Crew(\n",
        "    agents=agent_list,\n",
        "    tasks=task_list,\n",
        "    process=Process.sequential, # or Process.hierarchical\n",
        "    verbose=True\n",
        ")"
      ]
    },
    {
      "cell_type": "code",
      "execution_count": null,
      "metadata": {
        "id": "qO8mnURjOrUm"
      },
      "outputs": [],
      "source": [
        "result = marketing_crew.kickoff()\n"
      ]
    },
    {
      "cell_type": "code",
      "execution_count": null,
      "metadata": {},
      "outputs": [],
      "source": [
        "print(result.raw)"
      ]
    },
    {
      "cell_type": "code",
      "execution_count": null,
      "metadata": {},
      "outputs": [],
      "source": [
        "\n",
        "\n",
        "hierarchical_crew = Crew(\n",
        "    agents=agent_list,\n",
        "    tasks=task_list,\n",
        "    process=Process.hierarchical, # or Process.hierarchical\n",
        "    verbose=True,\n",
        "    manager_llm=llm\n",
        ")"
      ]
    },
    {
      "cell_type": "code",
      "execution_count": null,
      "metadata": {},
      "outputs": [],
      "source": [
        "result2 = hierarchical_crew.kickoff()"
      ]
    },
    {
      "cell_type": "code",
      "execution_count": null,
      "metadata": {},
      "outputs": [],
      "source": []
    }
  ],
  "metadata": {
    "colab": {
      "include_colab_link": true,
      "provenance": []
    },
    "kernelspec": {
      "display_name": ".venv",
      "language": "python",
      "name": "python3"
    },
    "language_info": {
      "codemirror_mode": {
        "name": "ipython",
        "version": 3
      },
      "file_extension": ".py",
      "mimetype": "text/x-python",
      "name": "python",
      "nbconvert_exporter": "python",
      "pygments_lexer": "ipython3",
      "version": "3.12.3"
    }
  },
  "nbformat": 4,
  "nbformat_minor": 0
}
