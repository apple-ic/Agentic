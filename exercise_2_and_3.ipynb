{
  "cells": [
    {
      "cell_type": "markdown",
      "metadata": {
        "colab_type": "text",
        "id": "view-in-github"
      },
      "source": [
        "<a href=\"https://colab.research.google.com/github/apple-ic/Agentic/blob/main/exercise_2_and_3.ipynb\" target=\"_parent\"><img src=\"https://colab.research.google.com/assets/colab-badge.svg\" alt=\"Open In Colab\"/></a>"
      ]
    },
    {
      "cell_type": "code",
      "execution_count": null,
      "metadata": {
        "id": "ERnDcfd41kVW"
      },
      "outputs": [],
      "source": [
        "# install requirements from the pyproject.toml file\n",
        "%pip install ."
      ]
    },
    {
      "cell_type": "code",
      "execution_count": null,
      "metadata": {
        "id": "QV7ATDcb1e5Q"
      },
      "outputs": [],
      "source": [
        "from crewai import Agent\n",
        "from crewai import Task\n",
        "from crewai import LLM\n",
        "from dotenv import load_dotenv\n",
        "from crewai import Crew, Process\n",
        "from crewai_tools import SerperDevTool\n",
        "import os\n",
        "\n"
      ]
    },
    {
      "cell_type": "code",
      "execution_count": null,
      "metadata": {
        "id": "v-DoQARNMDbO"
      },
      "outputs": [],
      "source": [
        "load_dotenv()\n",
        "\n",
        "llm = LLM(model=\"gpt-4o-mini\")\n",
        "\n",
        "# Create the web search tool\n",
        "web_search_tool = SerperDevTool()"
      ]
    },
    {
      "cell_type": "code",
      "execution_count": null,
      "metadata": {
        "id": "8QFh138fRpDq"
      },
      "outputs": [],
      "source": [
        "# The client's domain(url) and the project description\n",
        "\n",
        "customer_domain=\"marvel.com\"\n",
        "project_description=\"\"\"Marvel makes a bunch of stuff, but we're interested in the films. We've heard that marvel is making a new Captain America film.\n",
        "Create a marketing campaign for the next film, called: 'Captain America Vs The Big Bad GPT'. \"\"\""
      ]
    },
    {
      "cell_type": "code",
      "execution_count": null,
      "metadata": {
        "id": "lh2RqrNhLbxS"
      },
      "outputs": [],
      "source": [
        "# Exercise 2: Define Your Agents\n",
        "\n",
        "research_analyst = Agent(\n",
        "        role=\"\"\"Domain Researcher\"\"\",\n",
        "        backstory=\"\"\"Expert in online research, trend analysis, and data gathering across industries. Skilled at summarizing findings into actionable insights.\"\"\",\n",
        "        goal=\"\"\"Conduct deep research on a given topic, market, or audience and return a structured brief with key insights, stats, and references.\"\"\",\n",
        "        verbose=True,\n",
        "        tools=[web_search_tool],\n",
        "        llm=llm\n",
        "    )\n",
        "\n",
        "strategist_agent =  Agent(\n",
        "    role=\"\"\"Marketing Strategist\"\"\",\n",
        "    backstory=\"\"\"A seasoned expert in digital marketing, audience segmentation, and branding.\n",
        "                Adept at translating insights into actionable strategy to enhance brand positioning.\"\"\",\n",
        "    goal=\"\"\"Develop clear and compelling communication and marketing strategies based on research briefs.\n",
        "        Define tone, suitable channels, target audience, and key messaging.\"\"\",\n",
        "    verbose=True,\n",
        "    allow_delegation=True,\n",
        "    llm=llm\n",
        ")\n",
        "\n",
        "creative_director = Agent(\n",
        "    role=\"Campaign Ideator\",\n",
        "    goal=\"Propose 2-3 unique creative campaign ideas aligned with the strategy and tailored to the audience.\",\n",
        "    backstory=\"Experienced in advertising and brand storytelling. Thinks conceptually to create campaign hooks and slogans.\",\n",
        "    verbose=True,\n",
        "    llm=llm\n",
        ")\n",
        "\n",
        "editor_agent = Agent(\n",
        "    role=\"Content Reviewer\",\n",
        "    backstory=\"An editorial expert skilled in proofreading, grammar checking, tone alignment, and ensuring brand consistency.\",\n",
        "    goal=\"Review the content for clarity, grammar, tone, and strategy alignment. Return final approved versions with notes if needed.\",\n",
        "    verbose=True,\n",
        "    llm=llm\n",
        ")"
      ]
    },
    {
      "cell_type": "code",
      "execution_count": null,
      "metadata": {
        "id": "5b9IbEt4LbxT"
      },
      "outputs": [],
      "source": [
        "#  Exercise 3: Define the Tasks¶\n",
        "\n",
        "research_task = Task(\n",
        "    agent=research_analyst,\n",
        "    description=f\"Research the customer landscape and competitors for {project_description} in {customer_domain}. \"\n",
        "                f\"Include emerging trends, audience demographics, and competitor positioning.\",\n",
        "    expected_output=\"A detailed research brief including statistics, audience personas, competitor analysis, and market trends.\"\n",
        ")\n",
        "\n",
        "strategist_task = Task(\n",
        "    agent=strategist_agent,\n",
        "    description=f\"Develop a comprehensive communication strategy for {project_description}, targeting {customer_domain}. Base the strategy on the research findings, focusing on tone, messaging pillars, and key distribution channels.\",\n",
        "    expected_output=\"A strategy document detailing audience segmentation, brand tone, message framework, and recommended communication channels.\"\n",
        ")\n",
        "\n",
        "campaign_ideation_task = Task(\n",
        "    agent=creative_director,\n",
        "    description=f\"\"\"Based on the strategic brief, propose 2-3 unique and creative campaign ideas for {project_description}.\n",
        "                 Each idea should include a campaign name, central slogan, and a short description.\n",
        "                 Ensure alignment with the target audience and communication goals in the {customer_domain}. \"\"\",\n",
        "    expected_output=\"2-3 creative campaign ideas including name, hook, and brief description.\"\n",
        ")\n",
        "\n",
        "editor_task = Task(\n",
        "    agent=editor_agent,\n",
        "    description=f\"Review all content created for {project_description}, targeting {customer_domain}. Check for grammatical accuracy, brand voice alignment, clarity, and adherence to the strategy.\",\n",
        "    expected_output=\"A finalised, edited version of the content with comments and approval status.\"\n",
        ")\n"
      ]
    },
    {
      "cell_type": "code",
      "execution_count": null,
      "metadata": {
        "colab": {
          "base_uri": "https://localhost:8080/",
          "height": 221
        },
        "id": "CVJAauYB1e5Q",
        "outputId": "bb407b5d-c75c-4f35-aed3-513f0a287311"
      },
      "outputs": [],
      "source": [
        "# Should we move this to Exercise 1? I'm not sure if we need to follow the template. – Rasha\n",
        "from IPython.display import Markdown\n",
        "\n",
        "Markdown(\"\"\"\n",
        "\n",
        "- **Agents**:\n",
        "  1. Research Analyst Agent\n",
        "  2. Strategist Agent\n",
        "  3. Creative Director Agent\n",
        "  4. Content Writer Agent\n",
        "  5. Editor Agent\n",
        "\n",
        "- **Tasks**:\n",
        "  1. ...\n",
        "  2. ...\n",
        "  3. ...\n",
        "\"\"\")"
      ]
    },
    {
      "cell_type": "code",
      "execution_count": null,
      "metadata": {
        "id": "k8h38eIyNxBn"
      },
      "outputs": [],
      "source": [
        "# Crew\n",
        "agent_list=[\n",
        "    research_analyst,\n",
        "    strategist_agent,\n",
        "    creative_director,\n",
        "    editor_agent\n",
        "]\n",
        "\n",
        "task_list = [\n",
        "    research_task,\n",
        "    strategist_task,\n",
        "    campaign_ideation_task,\n",
        "    editor_task\n",
        "]\n",
        "\n",
        "marketing_crew = Crew(\n",
        "    agents=agent_list,\n",
        "    tasks=task_list,\n",
        "    process=Process.sequential, # or Process.hierarchical\n",
        "    verbose=True\n",
        ")"
      ]
    },
    {
      "cell_type": "code",
      "execution_count": null,
      "metadata": {
        "id": "qO8mnURjOrUm"
      },
      "outputs": [],
      "source": [
        "result = marketing_crew.kickoff(inputs={\"user_input\": \"???\"})\n"
      ]
    },
    {
      "cell_type": "markdown",
      "metadata": {},
      "source": [
        "## Sample Final Answer:\n",
        "**Communication Strategy Document for CrewAI**\n",
        "\n",
        "**1. Audience Segmentation**\n",
        "- **Primary Audience**: Tech-savvy decision-makers and key stakeholders in medium to large enterprises, including:\n",
        "  - CMOs (Chief Marketing Officers)\n",
        "  - Marketing Managers\n",
        "  - IT Managers\n",
        "  - Operations Managers\n",
        "  - Digital Transformation Leads\n",
        "- **Demographics**: Ages 30-55, predominantly urban, with a high level of education in relevant fields (e.g., marketing, IT, business administration).\n",
        "- **Psychographics**: Interested in innovation, efficiency, and technological advancements; they value data-driven decisions and operational excellence.\n",
        "\n",
        "**2. Brand Tone**\n",
        "- **Professional**: Maintain a formal yet approachable dialogue that reflects expertise in AI and marketing automation.\n",
        "- **Empowering**: Use language that encourages decision-makers to think innovatively and adopt advanced solutions, emphasizing support and partnership.\n",
        "- **Clear**: Avoid jargon; focus on simplifying complex AI concepts to help non-technical stakeholders understand the benefits and applications of CrewAI.\n",
        "\n",
        "**3. Messaging Framework**\n",
        "- **Key Messaging Pillars**:\n",
        "  1. **Revolutionary Efficiency**: \"Transform your workflow with CrewAI, where automation meets innovation for maximum efficiency.\"\n",
        "  2. **Seamless Integration**: \"Easily integrate with existing systems and scale effortlessly as your needs grow—no more silos.\"\n",
        "  3. **User-Centric**: \"Empower your teams with a user-friendly platform designed for ease of use and customization.\"\n",
        "  4. **Proven Success**: \"Join a growing number of satisfied enterprises who have transformed their marketing automation journey with CrewAI.\"\n",
        "- **Value Proposition**: \"CrewAI provides the advanced AI-driven toolkit that businesses need to automate marketing processes seamlessly, empowering teams to focus on strategic growth.\"\n",
        "\n",
        "**4. Recommended Communication Channels**\n",
        "- **Website**: Ensure the CrewAI website (crewai.com) is optimized to reflect the messaging framework, featuring success stories, case studies, and a user-friendly experience.\n",
        "- **Social Media**: Utilize LinkedIn and Twitter for regular updates, thought leadership articles, and engagement with decision-makers:\n",
        "  - LinkedIn for B2B outreach and sharing industry insights/case studies.\n",
        "  - Twitter for quick updates and engagement with industry trends.\n",
        "- **Email Marketing**: Develop a newsletter targeting decision-makers, offering insights, industry trends, tips for marketing automation, and exclusive content.\n",
        "- **Webinars and Interactive Demos**: Host sessions that demonstrate CrewAI’s capabilities and provide a platform for potential clients to ask questions and engage.\n",
        "- **Paid Advertising**: Implement targeted LinkedIn ads aimed at decision-makers within key industries to generate leads and increase brand awareness.\n",
        "\n",
        "This comprehensive strategy should effectively highlight CrewAI's capabilities and position it as a leader in the marketing automation sector for medium to large enterprises. By leveraging these insights and utilizing the right\n",
        "channels, CrewAI can engage its target audience and drive adoption of its innovative solutions.\n",
        "\n",
        "**Campaign Idea 1: \"AI-volutionize Your Marketing\"**\n",
        "**Slogan:** \"Unlock the Power of Automation with CrewAI!\"\n",
        "**Description:** This campaign emphasizes the revolutionary impact of CrewAI's AI-driven solutions on marketing efficiency. It will feature success stories from enterprises that have transformed their workflows through the platform.\n",
        "The narrative will be conveyed through engaging video testimonials and case studies shared across LinkedIn and targeted email newsletters. This storytelling approach will highlight the ease of use and integration capabilities,\n",
        "inspiring decision-makers to envision how CrewAI can lead their marketing automation journey to new heights.\n",
        "\n",
        "**Campaign Idea 2: \"Scale with Precision\"**\n",
        "**Slogan:** \"Integrate. Automate. Elevate.\"\n",
        "**Description:** Focused on the theme of seamless integration and scalability, this campaign will showcase how CrewAI effortlessly fits into existing systems. It will include interactive demo webinars where potential clients can see\n",
        "live scenarios of CrewAI in action, solving common pain points in marketing automation. Additionally, infographics will be shared on social media platforms, breaking down the integration process and scalability benefits, ultimately\n",
        "painting a clear picture of how CrewAI empowers marketing teams to grow without boundaries.\n",
        "\n",
        "**Campaign Idea 3: \"The User-Centric Advantage\"**\n",
        "**Slogan:** \"Empower Your Team with Intuitive AI Solutions!\"\n",
        "**Description:** This campaign will highlight the user-friendly design of CrewAI, making it accessible for both technical and non-technical stakeholders. It will include a series of blog posts and thought leadership articles addressing\n",
        "the importance of user experience in technology adoption. Engaging visual content will illustrate CrewAI's intuitive dashboard and customization options, reinforcing how the platform is tailored to meet the unique needs of enterprise\n",
        "teams. A targeted LinkedIn ad campaign will ensure that this message reaches key decision-makers, emphasizing CrewAI’s commitment to enhancing user efficiency and satisfaction.\n",
        "\n",
        "Through these campaigns, CrewAI will effectively communicate its value proposition, resonate with the tech-savvy audience, and encourage adoption of its innovative marketing automation solutions among medium to large enterprises.\n",
        "\n",
        "**Comments and Approval Status**:\n",
        "- The content aligns well with the brand voice and strategy specified.\n",
        "- Clarity and tone are consistent and professional.\n",
        "- Minor adjustments made for grammatical accuracy.\n",
        "- Approved for use.\n",
        "\n",
        "**End of Document**"
      ]
    },
    {
      "cell_type": "markdown",
      "metadata": {},
      "source": [
        "## Team Discussion\n",
        "### What went well:\n",
        "\n",
        "- Crew framework great at abstracting complexity and creating structure to improve prompting\n",
        "- Verbose mode is a great feature to understand the model's thinking and tweaking the prompts\n",
        "- Using weaker models (babbage, Phi-3.5-mini) produced much worse results, highlighting the need for a strong base model when delegating tasks\n",
        "\n",
        "### Even better if:\n",
        "- Crew AI was available as JavaScript SDK to be more compatible with web projects\n",
        "- AI occasionally hallucinated, which highlights the importance of selecting the right base model and tweaking the prompts"
      ]
    },
    {
      "cell_type": "markdown",
      "metadata": {},
      "source": [
        "## Communication Strategy Document for Marvel\n",
        "\n",
        "With the prompts:\n",
        "\n",
        "```python\n",
        "customer_domain=\"marvel.com\"\n",
        "project_description=\"\"\"Marvel makes a bunch of stuff, but we're interested in the films. We've heard that marvel is making a new Captain America film.\n",
        "Create a marketing campaign for the next film, called: 'Captain America Vs The Big Bad GPT'. \"\"\"\n",
        "```\n",
        "\n",
        "We get the following output:\n",
        "\n",
        "\u001b[1m\u001b[95m# Agent:\u001b[00m \u001b[1m\u001b[92mContent Reviewer\u001b[00m\n",
        "\u001b[95m## Task:\u001b[00m \u001b[92mReview all content created for Marvel makes a bunch of stuff, but we're interested in the films. We've heard that marvel is making a new Captain America film.\n",
        "Create a marketing campaign for the next film, called: 'Captain America Vs The Big Bad GPT'. , targeting marvel.com. Check for grammatical accuracy, brand voice alignment, clarity, and adherence to the strategy.\u001b[00m\n",
        "\n",
        "\n",
        "\u001b[1m\u001b[95m# Agent:\u001b[00m \u001b[1m\u001b[92mContent Reviewer\u001b[00m\n",
        "\u001b[95m## Final Answer:\u001b[00m \u001b[92m\n",
        "### Marketing Campaign Strategy Document for \"Captain America: Brave New World\"\n",
        "\n",
        "#### **Film Overview:**\n",
        "- **Title:** Captain America: Brave New World (also referred to as Captain America Vs The Big Bad GPT)\n",
        "- **Release Date:** May 3, 2024\n",
        "- **Main Cast:** \n",
        "  - Anthony Mackie as Sam Wilson / Captain America\n",
        "  - Harrison Ford as President Thaddeus Ross\n",
        "- **Storyline:** Sam Wilson must navigate an international conspiracy while holding the mantle of Captain America, dealing with threats that integrate modern challenges and technology.\n",
        "\n",
        "#### **Audience Segmentation:**\n",
        "1. **Tech-Savvy Millennials (Ages 18-35)**: Engaged with technology, value innovation, and appreciate modern narratives. This group actively consumes content on streaming platforms and social media.\n",
        "\n",
        "2. **Dedicated Marvel Fans**: Longtime supporters of the Marvel franchise. These fans attend movie releases and are involved in discussions about content related to their favorite characters.\n",
        "\n",
        "3. **Diversity Advocates**: Viewers who prioritize films that showcase female empowerment and diverse characters. This audience appreciates narratives that emphasize representational stories.\n",
        "\n",
        "#### **Brand Tone:**\n",
        "- **Heroic and Inspirational**: Mirroring Captain America’s classic ethos but through a modern lens with Sam Wilson.\n",
        "- **Inclusive and Modern**: Reflecting themes of diversity and adaptation to contemporary societal issues.\n",
        "- **Clever and Relatable**: Incorporating humor and modern references that align with audience day-to-day experiences.\n",
        "\n",
        "#### **Messaging Pillars:**\n",
        "1. **Rising Against Adversity**: Highlighting Sam Wilson’s struggles and triumphs, mirroring contemporary societal challenges.\n",
        "   \n",
        "2. **Empowerment Through Diversity**: Showcasing strong female characters and diverse backgrounds, promoting themes of equality and representation.\n",
        "\n",
        "3. **Technology Meets Heroism**: Exploring how technology can be a double-edged sword, both helping and threatening society, enhancing the narrative's relevance.\n",
        "\n",
        "#### **Recommended Communication Channels:**\n",
        "1. **Social Media Campaigns**: \n",
        "   - Use Instagram, TikTok, and Twitter for teaser trailers and interactive content.\n",
        "   - Create popular hashtags (e.g., #CaptainVsTheBigBadGPT) for discussions and share fan theories.\n",
        "\n",
        "2. **Influencer Partnerships**: \n",
        "   - Collaborate with influencers in tech and film to generate buzz and engage their audiences through reviews and discussions.\n",
        "   - Host live Q&A sessions where influencers can discuss themes of the film related to technology and representation.\n",
        "\n",
        "3. **Immersive Fan Experiences**:\n",
        "   - Organize AR experiences detailing characters and plots at events or major cities, allowing engagement and excitement ahead of the film’s release.\n",
        "\n",
        "4. **Thematic Merchandise**:\n",
        "   - Develop items like clothing and collectibles that embody core themes (e.g., empowerment, diversity) tied into the film’s messaging.\n",
        "\n",
        "5. **Streaming Integration**:\n",
        "   - Partner with Disney+ for exclusive content such as interviews, behind-the-scenes footage, and related mini-series that enhance the film’s narrative and themes.\n",
        "\n",
        "6. **Community Engagement**:\n",
        "   - Host discussions on subjects like technology’s impact on society in tandem with the film's narrative. Engage experts and audiences to create an ongoing conversation leading up to the release.\n",
        "\n",
        "#### **Conclusion:**\n",
        "The marketing campaign for “Captain America: Brave New World” aims not just to captivate audiences with its hero narrative but to connect deeply with them through themes of modern challenges, technology, and diversity. By focusing on engaging and interactive content tailored to the target audiences, this strategy aims to ensure strong viewer turnout and meaningful conversations around the film, solidifying its position within the Marvel Cinematic Universe as both an entertaining and socially relevant piece of cinema.\n",
        "\n",
        "### Campaign Idea 1: \"Hero or Machine?\"  \n",
        "**Slogan:** \"In a world of circuits, can a heart still be the strongest shield?\"  \n",
        "**Description:** This campaign dives deep into the central conflict of the film, exploring the tension between human emotion and technological power. Utilizing interactive social media challenges, fans can choose between scenarios that pose moral dilemmas influenced by AI, sharing their responses with the hashtag #HeroOrMachine. The campaign will also collaborate with psychologists and ethicists for live discussions about the implications of AI in everyday life and feature video testimonials, adding layers to the narrative that resonate with tech-savvy audiences and foster engagement among Marvel fans. \n",
        "\n",
        "### Campaign Idea 2: \"Empower the Future\"  \n",
        "**Slogan:** \"Strength comes in many forms.\"  \n",
        "**Description:** This initiative focuses on the film's themes of empowerment and diversity through partnerships with organizations that support underrepresented communities in STEM. The campaign will feature stories from female tech innovators and activists, highlighting their achievements in a series of short documentaries released on social media platforms leading up to the film's release. Additionally, a competition can be launched for fans to submit their own ideas on how technology can empower communities, with winners receiving exclusive merchandise and merchandise packs. Engaging audiences through interactive content and promoting representation will deepen the connection to the film and Marvel's core values.\n",
        "\n",
        "### Campaign Idea 3: \"The Shield of Tomorrow\"  \n",
        "**Slogan:** \"Join the fight for a better tomorrow, one challenge at a time!\"  \n",
        "**Description:** In this campaign, fans are invited to participate in virtual community challenges that mirror Sam Wilson's journey in the film. Each week leading to the release, new challenges will focus on real-world issues—like sustainability, equity in tech, or mental health awareness—allowing participants to earn digital badges that represent their efforts. These challenges will be gamified via an app allowing for social sharing and friendly competition among followers. The culmination of the campaign would feature a live-streamed event where winners can interact with the cast, discussing both the film's storyline and their own contributions towards building a better future, thereby connecting the message of the film with tangible real-world action. \n",
        "\n",
        "These campaign ideas not only align with the overarching themes of \"Captain America: Brave New World\" but also engage the audience deeply, making them active participants in the film's narrative and the ongoing conversation around technology, empowerment, and representation.\n",
        "\n",
        "### Approval Status:  \n",
        "- **Content Accuracy:** Approved  \n",
        "- **Clarity:** Approved  \n",
        "- **Brand Voice Alignment:** Approved  \n",
        "- **Grammar Check:** Approved  \n",
        "- **Strategic Alignment:** Approved  \n",
        "\n",
        "*Notes: Ensure to monitor engagement metrics closely during the campaign launch to adjust strategies as needed.*\u001b[00m"
      ]
    },
    {
      "cell_type": "markdown",
      "metadata": {},
      "source": []
    }
  ],
  "metadata": {
    "colab": {
      "include_colab_link": true,
      "provenance": []
    },
    "kernelspec": {
      "display_name": "Python 3",
      "language": "python",
      "name": "python3"
    },
    "language_info": {
      "codemirror_mode": {
        "name": "ipython",
        "version": 3
      },
      "file_extension": ".py",
      "mimetype": "text/x-python",
      "name": "python",
      "nbconvert_exporter": "python",
      "pygments_lexer": "ipython3",
      "version": "3.11.2"
    }
  },
  "nbformat": 4,
  "nbformat_minor": 0
}
