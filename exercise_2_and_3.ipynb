{
  "cells": [
    {
      "cell_type": "markdown",
      "metadata": {
        "id": "view-in-github",
        "colab_type": "text"
      },
      "source": [
        "<a href=\"https://colab.research.google.com/github/apple-ic/Agentic/blob/main/exercise_2_and_3.ipynb\" target=\"_parent\"><img src=\"https://colab.research.google.com/assets/colab-badge.svg\" alt=\"Open In Colab\"/></a>"
      ]
    },
    {
      "cell_type": "code",
      "execution_count": null,
      "metadata": {
        "id": "ERnDcfd41kVW"
      },
      "outputs": [],
      "source": [
        "# install requirements from the pyproject.toml file\n",
        "%pip install ."
      ]
    },
    {
      "cell_type": "code",
      "execution_count": null,
      "metadata": {
        "id": "QV7ATDcb1e5Q"
      },
      "outputs": [],
      "source": [
        "from crewai import Agent\n",
        "from crewai import Task\n",
        "from crewai.project import agent\n",
        "\n",
        "\n",
        "@agent\n",
        "def StrategistAgent() -> Agent:\n",
        "    \"\"\"Create an agent that specialises in making marketing stratergies from research briefs\n",
        "\n",
        "    Returns:\n",
        "        Agent: The stratergist agent\n",
        "    \"\"\"\n",
        "\n",
        "    return Agent(\n",
        "        role=\"\"\"Marketing Strategist\"\"\",\n",
        "        backstory=\"\"\"A seasoned expert in digital marketing, audience segmentation, and branding.\n",
        "                 Adept at translating insights into actionable strategy to enhance brand positioning.\"\"\",\n",
        "        goal=\"\"\"Develop clear and compelling communication and marketing strategies based on research briefs.\n",
        "            Define tone, suitable channels, target audience, and key messaging.\"\"\",\n",
        "        verbose=True,\n",
        "        allow_delegation=True,\n",
        "    )\n"
      ]
    },
    {
      "cell_type": "code",
      "source": [
        "from crewai import LLM\n",
        "\n",
        "llm = LLM(model=\"gpt-4o-mini\")"
      ],
      "metadata": {
        "id": "v-DoQARNMDbO"
      },
      "execution_count": null,
      "outputs": []
    },
    {
      "cell_type": "code",
      "source": [
        "# The client's domain(url) and the project description\n",
        "\n",
        "customer_domain=\"crewai.com\"\n",
        "project_description=\"\"\"CrewAI, a leading provider of multi-agent systems, aims to revolutionize marketing automation for its enterprise clients.\n",
        "This project involves developing an innovative marketing strategy to showcase CrewAI's advanced AI-driven solutions,\n",
        "emphasizing ease of use, scalability, and integration capabilities.\n",
        "The campaign will target tech-savvy decision-makers in medium to large enterprises, highlighting success stories and\n",
        "the transformative potential of CrewAI's platform.\"\"\""
      ],
      "metadata": {
        "id": "8QFh138fRpDq"
      },
      "execution_count": null,
      "outputs": []
    },
    {
      "cell_type": "code",
      "execution_count": null,
      "metadata": {
        "id": "lh2RqrNhLbxS"
      },
      "outputs": [],
      "source": [
        "# Exercise 2: Define Your Agents\n",
        "\n",
        "research_analyst = Agent(\n",
        "        role=\"\"\"Domain Researcher\"\"\",\n",
        "        backstory=\"\"\"Expert in online research, trend analysis, and data gathering across industries. Skilled at summarizing findings into actionable insights.\"\"\",\n",
        "        goal=\"\"\"Conduct deep research on a given topic, market, or audience and return a structured brief with key insights, stats, and references.\"\"\",\n",
        "        verbose=True\n",
        "    )\n",
        "\n",
        "creative_director = Agent(\n",
        "    role=\"Campaign Ideator\",\n",
        "    goal=\"Propose 2-3 unique creative campaign ideas aligned with the strategy and tailored to the audience.\",\n",
        "    backstory=\"Experienced in advertising and brand storytelling. Thinks conceptually to create campaign hooks and slogans.\",\n",
        "    verbose=True,\n",
        "    llm=llm\n",
        ")"
      ]
    },
    {
      "cell_type": "code",
      "execution_count": null,
      "metadata": {
        "id": "5b9IbEt4LbxT"
      },
      "outputs": [],
      "source": [
        "#  Exercise 3: Define the Tasks¶\n",
        "\n",
        "research_task = Task(\n",
        "    agent=research_analyst,\n",
        "    description=f\"Research the customer landscape and competitors for {project_description} in {customer_domain}. \"\n",
        "                f\"Include emerging trends, audience demographics, and competitor positioning.\",\n",
        "    expected_output=\"A detailed research brief including statistics, audience personas, competitor analysis, and market trends.\"\n",
        ")\n",
        "\n",
        "\n",
        "campaign_ideation_task = Task(\n",
        "    agent=creative_director,\n",
        "    description=f\"\"\"Based on the strategic brief, propose 2–3 unique and creative campaign ideas for {project_description}.\n",
        "                 Each idea should include a campaign name, central slogan, and a short description.\n",
        "                 Ensure alignment with the target audience and communication goals in the {customer_domain}. \"\"\",\n",
        "    expected_output=\"2–3 creative campaign ideas including name, hook, and brief description.\"\n",
        ")\n"
      ]
    },
    {
      "cell_type": "code",
      "execution_count": null,
      "metadata": {
        "colab": {
          "base_uri": "https://localhost:8080/",
          "height": 221
        },
        "id": "CVJAauYB1e5Q",
        "outputId": "bb407b5d-c75c-4f35-aed3-513f0a287311"
      },
      "outputs": [
        {
          "data": {
            "text/markdown": [
              "\n",
              "\n",
              "- **Agents**:\n",
              "  1. Research Analyst Agent\n",
              "  2. Strategist Agent\n",
              "  3. Creative Director Agent\n",
              "  4. Content Writer Agent \n",
              "  5. Editor Agent\n",
              "\n",
              "- **Tasks**:\n",
              "  1. ...\n",
              "  2. ...\n",
              "  3. ...\n"
            ],
            "text/plain": [
              "<IPython.core.display.Markdown object>"
            ]
          },
          "execution_count": 1,
          "metadata": {},
          "output_type": "execute_result"
        }
      ],
      "source": [
        "# Should we move this to Exercise 1? I'm not sure if we need to follow the template. – Rasha\n",
        "from IPython.display import Markdown\n",
        "\n",
        "Markdown(\"\"\"\n",
        "\n",
        "- **Agents**:\n",
        "  1. Research Analyst Agent\n",
        "  2. Strategist Agent\n",
        "  3. Creative Director Agent\n",
        "  4. Content Writer Agent\n",
        "  5. Editor Agent\n",
        "\n",
        "- **Tasks**:\n",
        "  1. ...\n",
        "  2. ...\n",
        "  3. ...\n",
        "\"\"\")"
      ]
    },
    {
      "cell_type": "code",
      "source": [
        "# Crew\n",
        "from crewai import Crew, Process\n",
        "agent_list=[\n",
        "    research_analyst,\n",
        "    creative_director\n",
        "\n",
        "]\n",
        "\n",
        "task_list = [\n",
        "    research_task,\n",
        "    campaign_ideation_task\n",
        "]\n",
        "\n",
        "\n",
        "\n",
        "marketing_crew = Crew(\n",
        "    agents=agent_list,\n",
        "    tasks=task_list,\n",
        "    process=Process.sequential, # or Process.hierarchical\n",
        "    verbose=True\n",
        ")"
      ],
      "metadata": {
        "id": "k8h38eIyNxBn"
      },
      "execution_count": null,
      "outputs": []
    },
    {
      "cell_type": "code",
      "source": [
        "result = marketing_crew.kickoff(inputs={\"user_input\": \"???\"})\n"
      ],
      "metadata": {
        "id": "qO8mnURjOrUm"
      },
      "execution_count": null,
      "outputs": []
    }
  ],
  "metadata": {
    "colab": {
      "provenance": [],
      "include_colab_link": true
    },
    "kernelspec": {
      "display_name": "Python 3",
      "language": "python",
      "name": "python3"
    },
    "language_info": {
      "codemirror_mode": {
        "name": "ipython",
        "version": 3
      },
      "file_extension": ".py",
      "mimetype": "text/x-python",
      "name": "python",
      "nbconvert_exporter": "python",
      "pygments_lexer": "ipython3",
      "version": "3.11.2"
    }
  },
  "nbformat": 4,
  "nbformat_minor": 0
}