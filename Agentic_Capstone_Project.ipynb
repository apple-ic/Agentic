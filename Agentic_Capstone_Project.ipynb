{
  "cells": [
    {
      "cell_type": "markdown",
      "metadata": {
        "id": "view-in-github",
        "colab_type": "text"
      },
      "source": [
        "<a href=\"https://colab.research.google.com/github/apple-ic/Agentic/blob/main/Agentic_Capstone_Project.ipynb\" target=\"_parent\"><img src=\"https://colab.research.google.com/assets/colab-badge.svg\" alt=\"Open In Colab\"/></a>"
      ]
    },
    {
      "cell_type": "code",
      "execution_count": null,
      "metadata": {
        "id": "ERnDcfd41kVW",
        "outputId": "f3a4f9e3-5940-4e57-fffa-6c8d42641dea"
      },
      "outputs": [
        {
          "name": "stdout",
          "output_type": "stream",
          "text": [
            "Note: you may need to restart the kernel to use updated packages.\n"
          ]
        }
      ],
      "source": [
        "# install requirements from the pyproject.toml file\n",
        "%pip install ."
      ]
    },
    {
      "cell_type": "markdown",
      "metadata": {
        "id": "tgbeqIOA1e5P"
      },
      "source": [
        "# CAPSTONE task - Full code group 1\n",
        "Multi-agent content creation pipeline, with CrewAI.\n",
        "\n",
        "## Part 1 - Think through agents and tasks\n",
        "\n",
        "\n",
        "### Agent Definitions\n",
        "\n",
        "1. Research Analyst Agent @Anushka\n",
        "\n",
        "    Role: Domain Researcher\n",
        "\n",
        "    Backstory: Expert in online research, trend analysis, and data gathering across industries. Skilled at summarizing findings into actionable insights.\n",
        "\n",
        "    Goal: Conduct deep research on a given topic, market, or audience and return a structured brief with key insights, stats, and references.\n",
        "\n",
        "2. Strategist Agent  \n",
        "\n",
        "    Role: Marketing Strategist  - @James\n",
        "\n",
        "    Backstory: Background in digital marketing, audience segmentation, and branding. Can translate insights into actionable strategy.\n",
        "\n",
        "    Goal: Use research briefs to define a clear communication or marketing strategy, including tone, channels, audience, and key messaging.\n",
        "\n",
        "3. Creative Director Agent\n",
        "\n",
        "    Role: Campaign Ideator - @Rasha\n",
        "\n",
        "    Backstory: Experienced in advertising and brand storytelling. Thinks conceptually to create campaign hooks and slogans.\n",
        "\n",
        "    Goal: Propose 2-3 unique creative campaign ideas aligned with the strategy and tailored to the audience.\n",
        "\n",
        "\n",
        "4. Content Writer Agent @Sudhir\n",
        "\n",
        "    Role: Copywriter\n",
        "\n",
        "    Backstory: Professional copywriter with experience in long-form and short-form content. Strong grammar and storytelling skills.\n",
        "\n",
        "    Goal: Write clear, engaging content based on selected campaign ideas (e.g., blog posts, ad copy, social captions).\n",
        "\n",
        "\n",
        "5. Editor Agent - @Khadija\n",
        "\n",
        "    Role: Content Reviewer\n",
        "\n",
        "    Backstory: Editorial expert skilled in proofreading, grammar checking, tone alignment, and ensuring brand consistency.\n",
        "\n",
        "    Goal: Review content for clarity, grammar, tone, and strategy alignment. Return final approved versions with notes if needed."
      ]
    },
    {
      "cell_type": "code",
      "execution_count": null,
      "metadata": {
        "id": "QV7ATDcb1e5Q"
      },
      "outputs": [],
      "source": [
        "from crewai import Agent\n",
        "from crewai.project import agent\n",
        "\n",
        "\n",
        "@agent\n",
        "def StrategistAgent() -> Agent:\n",
        "    \"\"\"Create an agent that specialises in making marketing stratergies from research briefs\n",
        "\n",
        "    Returns:\n",
        "        Agent: The stratergist agent\n",
        "    \"\"\"\n",
        "\n",
        "    return Agent(\n",
        "        role=\"\"\"Marketing Strategist\"\"\",\n",
        "        backstory=\"\"\"A seasoned expert in digital marketing, audience segmentation, and branding.\n",
        "                 Adept at translating insights into actionable strategy to enhance brand positioning.\"\"\",\n",
        "        goal=\"\"\"Develop clear and compelling communication and marketing strategies based on research briefs.\n",
        "            Define tone, suitable channels, target audience, and key messaging.\"\"\",\n",
        "        verbose=True,\n",
        "        allow_delegation=True,\n",
        "    )\n"
      ]
    },
    {
      "cell_type": "code",
      "execution_count": 1,
      "metadata": {
        "id": "CVJAauYB1e5Q",
        "outputId": "bb407b5d-c75c-4f35-aed3-513f0a287311",
        "colab": {
          "base_uri": "https://localhost:8080/",
          "height": 221
        }
      },
      "outputs": [
        {
          "output_type": "execute_result",
          "data": {
            "text/plain": [
              "<IPython.core.display.Markdown object>"
            ],
            "text/markdown": "\n\n- **Agents**:\n  1. Research Analyst Agent\n  2. Strategist Agent\n  3. Creative Director Agent\n  4. Content Writer Agent \n  5. Editor Agent\n\n- **Tasks**:\n  1. ...\n  2. ...\n  3. ...\n"
          },
          "metadata": {},
          "execution_count": 1
        }
      ],
      "source": [
        "from IPython.display import Markdown\n",
        "\n",
        "Markdown(\"\"\"\n",
        "\n",
        "- **Agents**:\n",
        "  1. Research Analyst Agent\n",
        "  2. Strategist Agent\n",
        "  3. Creative Director Agent\n",
        "  4. Content Writer Agent\n",
        "  5. Editor Agent\n",
        "\n",
        "- **Tasks**:\n",
        "  1. ...\n",
        "  2. ...\n",
        "  3. ...\n",
        "\"\"\")"
      ]
    }
  ],
  "metadata": {
    "colab": {
      "provenance": [],
      "include_colab_link": true
    },
    "kernelspec": {
      "display_name": ".venv",
      "language": "python",
      "name": "python3"
    },
    "language_info": {
      "codemirror_mode": {
        "name": "ipython",
        "version": 3
      },
      "file_extension": ".py",
      "mimetype": "text/x-python",
      "name": "python",
      "nbconvert_exporter": "python",
      "pygments_lexer": "ipython3",
      "version": "3.12.6"
    }
  },
  "nbformat": 4,
  "nbformat_minor": 0
}